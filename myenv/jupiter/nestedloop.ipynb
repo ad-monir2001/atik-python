{
 "cells": [
  {
   "cell_type": "markdown",
   "metadata": {},
   "source": [
    "# nested loop with for loop "
   ]
  },
  {
   "cell_type": "code",
   "execution_count": 3,
   "metadata": {},
   "outputs": [
    {
     "name": "stdout",
     "output_type": "stream",
     "text": [
      "1  \n",
      "2 2  \n",
      "3 3 3  \n",
      "4 4 4 4  \n",
      "5 5 5 5 5  \n",
      "6 6 6 6 6 6  \n",
      "7 7 7 7 7 7 7  \n",
      "8 8 8 8 8 8 8 8  \n",
      "9 9 9 9 9 9 9 9 9  \n",
      "10 10 10 10 10 10 10 10 10 10  \n",
      "11 11 11 11 11 11 11 11 11 11 11  \n"
     ]
    }
   ],
   "source": [
    "#outer loop\n",
    "for row in range(1,12):\n",
    "    #inner loop\n",
    "    for col in range(row):\n",
    "        print(row,end=\" \")\n",
    "    print(' ')"
   ]
  },
  {
   "cell_type": "markdown",
   "metadata": {},
   "source": [
    "                                  problem solve                                                  "
   ]
  },
  {
   "cell_type": "code",
   "execution_count": 35,
   "metadata": {},
   "outputs": [
    {
     "name": "stdout",
     "output_type": "stream",
     "text": [
      "1 2 3 4 5 6 7 \n",
      "\n",
      "1 2 3 4 5 6 7 \n",
      "\n",
      "1 2 3 4 5 6 7 \n",
      "\n",
      "1 2 3 4 5 6 7 \n",
      "\n",
      "1 2 3 4 5 6 7 \n",
      "\n",
      "1 2 3 4 5 6 7 \n",
      "\n",
      "1 2 3 4 5 6 7 \n",
      "\n"
     ]
    }
   ],
   "source": [
    "nums=[1,2,3,4,5,6,7]\n",
    "for i in nums:\n",
    "    e=0\n",
    "    while  e<len(nums):\n",
    "        print(nums[e],end=' ')\n",
    "        e=e+1\n",
    "    print('\\n')\n",
    "        "
   ]
  }
 ],
 "metadata": {
  "kernelspec": {
   "display_name": ".venv",
   "language": "python",
   "name": "python3"
  },
  "language_info": {
   "codemirror_mode": {
    "name": "ipython",
    "version": 3
   },
   "file_extension": ".py",
   "mimetype": "text/x-python",
   "name": "python",
   "nbconvert_exporter": "python",
   "pygments_lexer": "ipython3",
   "version": "3.12.1"
  }
 },
 "nbformat": 4,
 "nbformat_minor": 2
}
