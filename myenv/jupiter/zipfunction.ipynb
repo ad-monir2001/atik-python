{
 "cells": [
  {
   "cell_type": "code",
   "execution_count": 86,
   "metadata": {},
   "outputs": [
    {
     "name": "stdout",
     "output_type": "stream",
     "text": [
      "<zip object at 0x000001B1F646CD00>\n",
      "{('shobuj', 'Bangladesh and global studies '), ('milon', 'mathemetics'), ('obaidul', 'bangla'), ('lablu', 'physics and chemistry'), ('zibrail', 'English'), ('raisul', 'biology')}\n",
      "(('zibrail', 'English'), ('obaidul', 'bangla'), ('lablu', 'physics and chemistry'), ('shobuj', 'Bangladesh and global studies '), ('milon', 'mathemetics'), ('raisul', 'biology'))\n"
     ]
    }
   ],
   "source": [
    "name=['zibrail','obaidul','lablu','shobuj','milon','raisul']\n",
    "class_=['English','bangla','physics and chemistry','Bangladesh and global studies ','mathemetics','biology']\n",
    "print((zip(name,class_)))\n",
    "print(set(zip(name,class_)))\n",
    "print(tuple(zip(name,class_)))\n",
    "dictionary=(dict(zip(name,class_)))"
   ]
  },
  {
   "cell_type": "code",
   "execution_count": 85,
   "metadata": {},
   "outputs": [
    {
     "name": "stdout",
     "output_type": "stream",
     "text": [
      "zibrail is our English class teacher \n",
      "obaidul is our bangla class teacher \n",
      "lablu is our physics and chemistry class teacher \n",
      "shobuj is our Bangladesh and global studies  class teacher \n",
      "milon is our mathemetics class teacher \n",
      "raisul is our biology class teacher \n"
     ]
    }
   ],
   "source": [
    "for a,s in zip(dictionary.keys(),dictionary.values()):\n",
    "    print(f'{a} is our {s} class teacher ')"
   ]
  },
  {
   "cell_type": "code",
   "execution_count": 106,
   "metadata": {},
   "outputs": [
    {
     "name": "stdout",
     "output_type": "stream",
     "text": [
      "['b', 'd', 'a']\n",
      "bda\n",
      "dbfeeebda\n",
      "None\n"
     ]
    }
   ],
   "source": [
    "\n",
    "class Solution:\n",
    "    def mergeAlternately(self,word1:str,word2:str)->str:\n",
    "        list1=[] #[bad element is sep by comma return string  ]\n",
    "        list=[] # [result list] # than i want to join it \n",
    "        if len(word1)==len(word2):\n",
    "            for v,b in zip(word1,word2):\n",
    "                list1.append(v)\n",
    "                list1.append(b)\n",
    "        else:\n",
    "            if len(word1)>len(word2):\n",
    "                t_len=len(word1)-len(word2)\n",
    "                for i in range(1,t_len+1):\n",
    "                    list.append(word1[-i])\n",
    "                (list.reverse())\n",
    "                join_thing=''.join(list)\n",
    "                equal_word1=(word1.removesuffix(''.join(list)))\n",
    "                for v,b in zip(equal_word1,word2):\n",
    "                    list1.append(v)\n",
    "                    list1.append(b)\n",
    "                list1.append(join_thing)       \n",
    "            else:\n",
    "                t_len=len(word2)-len(word1)\n",
    "                for i in range(1,t_len+1):\n",
    "                    list.append(word2[-i])\n",
    "                (list.reverse())\n",
    "                print(list)\n",
    "                join_thing=''.join(list)\n",
    "                print(join_thing)\n",
    "                equal_word2=(word2.removesuffix(''.join(list)))\n",
    "                for v,b in zip(word1,equal_word2):\n",
    "                    list1.append(v)\n",
    "                    list1.append(b)\n",
    "                list1.append(join_thing)\n",
    "        return str(''.join(list1))\n",
    "        \n",
    "S=Solution()\n",
    "print(S.mergeAlternately(\"dfe\",\"beebda\"))"
   ]
  },
  {
   "cell_type": "code",
   "execution_count": 103,
   "metadata": {},
   "outputs": [
    {
     "name": "stdout",
     "output_type": "stream",
     "text": [
      "adb\n",
      "bda\n"
     ]
    }
   ],
   "source": [
    "a='dfe'\n",
    "s='beebda'\n",
    "f=[]\n",
    "for i in range(1,3+1):\n",
    "    f.append(s[-i])\n",
    "print(''.join(f))\n",
    "f.reverse()\n",
    "print(''.join(f))"
   ]
  }
 ],
 "metadata": {
  "kernelspec": {
   "display_name": ".venv",
   "language": "python",
   "name": "python3"
  },
  "language_info": {
   "codemirror_mode": {
    "name": "ipython",
    "version": 3
   },
   "file_extension": ".py",
   "mimetype": "text/x-python",
   "name": "python",
   "nbconvert_exporter": "python",
   "pygments_lexer": "ipython3",
   "version": "3.12.1"
  }
 },
 "nbformat": 4,
 "nbformat_minor": 2
}
