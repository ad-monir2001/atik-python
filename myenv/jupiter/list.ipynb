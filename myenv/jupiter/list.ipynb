{
 "cells": [
  {
   "cell_type": "markdown",
   "metadata": {},
   "source": [
    "# LIST IN PYTHON                            "
   ]
  },
  {
   "cell_type": "code",
   "execution_count": 12,
   "metadata": {},
   "outputs": [
    {
     "name": "stdout",
     "output_type": "stream",
     "text": [
      "104\n"
     ]
    }
   ],
   "source": [
    "list=[\"Atikur\",\"Rahman\",11,235,\"Atikur@Rahman*8\"]\n",
    "import sys\n",
    "print(sys.getsizeof(list))\n"
   ]
  },
  {
   "cell_type": "code",
   "execution_count": 2,
   "metadata": {},
   "outputs": [
    {
     "name": "stdout",
     "output_type": "stream",
     "text": [
      "['5']\n",
      "['5', '6']\n",
      "['5', '6', '7']\n",
      "['5', '6', '7', '8']\n",
      "['5', '6', '7', '8', '9']\n",
      "['5', '6', '7', '8', '9', '1']\n",
      "['5', '6', '7', '8', '9', '1', '2']\n",
      "['5', '6', '7', '8', '9', '1', '2', '3']\n",
      "['5', '6', '7', '8', '9', '1', '2', '3', '4']\n",
      "['5', '6', '7', '8', '9', '1', '2', '3', '4', '5']\n"
     ]
    }
   ],
   "source": [
    "list2=[]\n",
    "inpu=int(input('enter your total index : '))\n",
    "for i in range(inpu):\n",
    "    nuw_input=input()\n",
    "    list2.append(nuw_input)\n",
    "    print(list2)"
   ]
  }
 ],
 "metadata": {
  "kernelspec": {
   "display_name": ".venv",
   "language": "python",
   "name": "python3"
  },
  "language_info": {
   "codemirror_mode": {
    "name": "ipython",
    "version": 3
   },
   "file_extension": ".py",
   "mimetype": "text/x-python",
   "name": "python",
   "nbconvert_exporter": "python",
   "pygments_lexer": "ipython3",
   "version": "3.12.1"
  }
 },
 "nbformat": 4,
 "nbformat_minor": 2
}
