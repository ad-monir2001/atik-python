{
 "cells": [
  {
   "cell_type": "markdown",
   "metadata": {},
   "source": [
    "# use global variable in function"
   ]
  },
  {
   "cell_type": "code",
   "execution_count": 13,
   "metadata": {},
   "outputs": [
    {
     "name": "stdout",
     "output_type": "stream",
     "text": [
      "My local is= 501\n",
      "my global x= 501\n"
     ]
    }
   ],
   "source": [
    "x=1000\n",
    "def count():\n",
    "    global x \n",
    "    x=501  # Local x\n",
    "    print(\"My local is=\", x)\n",
    "count()\n",
    "print(\"my global x=\",x)"
   ]
  },
  {
   "cell_type": "code",
   "execution_count": 14,
   "metadata": {},
   "outputs": [
    {
     "name": "stdout",
     "output_type": "stream",
     "text": [
      "My local is= 501\n",
      "my global x= 1000\n"
     ]
    }
   ],
   "source": [
    "x=1000\n",
    "def count():\n",
    "\n",
    "    x=501  # Local x\n",
    "    print(\"My local is=\", x)\n",
    "count()\n",
    "print(\"my global x=\",x)"
   ]
  }
 ],
 "metadata": {
  "kernelspec": {
   "display_name": ".venv",
   "language": "python",
   "name": "python3"
  },
  "language_info": {
   "codemirror_mode": {
    "name": "ipython",
    "version": 3
   },
   "file_extension": ".py",
   "mimetype": "text/x-python",
   "name": "python",
   "nbconvert_exporter": "python",
   "pygments_lexer": "ipython3",
   "version": "3.12.1"
  }
 },
 "nbformat": 4,
 "nbformat_minor": 2
}
