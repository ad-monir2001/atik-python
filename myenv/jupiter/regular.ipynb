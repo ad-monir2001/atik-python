{
 "cells": [
  {
   "cell_type": "markdown",
   "metadata": {},
   "source": [
    "\n",
    "# REGULAR EXPRESSION\n",
    "\n"
   ]
  },
  {
   "cell_type": "markdown",
   "metadata": {},
   "source": [
    "                                SIGN OF REGX                             \n",
    "            \\s*= 0 space to infinitive space \n",
    "            \\s+ = 1space to infinitive space \n",
    "            \\S = it will return only string without space \n",
    "            \\d+ = return any digit\n",
    "            \\D = return anything without any digit\n",
    "            \\w+=any word\n",
    "            A\\w+i= any word which start with A and end with i\n",
    "            A.+i=return A to last i in any sentence\n",
    "            \\W= anything without any string\n",
    "            \\d{n} = return any digit with definite length.\n",
    "             \n",
    "            "
   ]
  },
  {
   "cell_type": "code",
   "execution_count": 25,
   "metadata": {},
   "outputs": [
    {
     "name": "stdout",
     "output_type": "stream",
     "text": [
      "['england', 'ireland', 'homeland', 'greenland']\n"
     ]
    }
   ],
   "source": [
    "import re\n",
    "s=\"england,ireland,homeland,greenland,Bangladesh\"\n",
    "print(re.findall(r'(\\w+land)',s))"
   ]
  },
  {
   "cell_type": "code",
   "execution_count": 26,
   "metadata": {},
   "outputs": [
    {
     "name": "stdout",
     "output_type": "stream",
     "text": [
      "['Bangladesh', 'Bangladesh']\n",
      "['Bangladesh is an agricultural country Bangladeshi man i']\n",
      "['Bangladesh', 'Bangladesh']\n"
     ]
    }
   ],
   "source": [
    "\n",
    "text4='Bangladesh is an agricultural country Bangladeshi man is great and populated'\n",
    "print(re.findall(r'(B\\w+h)',text4))\n",
    "print(re.findall(r'(B.+i)',text4)) \n",
    "print(re.findall(r'(B.+?h)',text4))"
   ]
  },
  {
   "cell_type": "code",
   "execution_count": 27,
   "metadata": {},
   "outputs": [
    {
     "name": "stdout",
     "output_type": "stream",
     "text": [
      "<re.Match object; span=(0, 12), match='Bangladesh i'>\n",
      "Bangladesh i\n"
     ]
    }
   ],
   "source": [
    "text5=\"Bangladesh is an agricultural Country .\"\n",
    "s=re.search(r\"(B.+?i)\",text5)\n",
    "print(s)\n",
    "print(s.group())"
   ]
  },
  {
   "cell_type": "code",
   "execution_count": null,
   "metadata": {},
   "outputs": [],
   "source": [
    "import re\n",
    "text=\"\"\"What is pytHon?What type of language is python?python is an object-oriented,high-level programming language with dynamic semantics developed.It was originally released in 1991. Designed to be easy as well as fun, replacing Java as the most widely used introductory language because it handles much of the complexity for the user.Python is used for server-side web development, software development, mathematics,and is popular for Rapid Application Development  built-in data structures, dynamic typing, and dynamic binding.It is easy to code and learn form JS\"\"\"\n",
    "matches=re.finditer('Python',text)\n",
    "print(re.findall(r'(\\W+)',text)) \n",
    "print(re.findall(r'([^Wb])',text)) #! [^WB] It  return all elements without W and B .\n",
    "print((re.findall(r\"^[A-Z]\\w+\",text,))) #* [A-Z] It's use for making range in A to Z with capital letter \n",
    "print(re.findall(r'(\\S)',text))\n"
   ]
  },
  {
   "cell_type": "code",
   "execution_count": 47,
   "metadata": {},
   "outputs": [
    {
     "name": "stdout",
     "output_type": "stream",
     "text": [
      "['00000000000', '01111 022222', '01954 215425', '01748 542525', '01794026029', '01569854236']\n",
      "['01723-985154', '01325-896585', '01954 215425', '01748 542525', '01794026029', '01569854236']\n",
      "['num', ':', '-', ', num', ':', '-', ', num', ':', ', num', ':', ', num', ':', ' ', ', num', ':', '-', '\\n,num', ':', ' ', ' num', ':', ' ', ' num', ':', ',num', ':', '\\n']\n"
     ]
    }
   ],
   "source": [
    "import re\n",
    "numbers='''num1:01723-985154, num2:00000-000000, num3:1452, num4:00000000000, num5:01111 022222, num6:01325-896585\n",
    ",num7:01954 215425 num8:01748 542525 num9:017940260295,num10:01569854236\n",
    "'''\n",
    "print(re.findall(r'(\\d{5}\\s*\\d{6})',numbers)) # * or we can use (\\d{5}\\s+\\{6})\n",
    "print(re.findall(r'(01[35789]\\d{2}\\s*-*\\d{6})',numbers)) # * it can  take both space and high_pen\n",
    "print(re.findall(r'(\\D+)',numbers))"
   ]
  },
  {
   "cell_type": "code",
   "execution_count": null,
   "metadata": {},
   "outputs": [],
   "source": [
    "from typing import NamedTuple\n",
    "import re\n",
    "\n",
    "class Token(NamedTuple):\n",
    "    type: str\n",
    "    value: str\n",
    "    line: int\n",
    "    column: int\n",
    "\n",
    "def tokenize(code):\n",
    "    keywords = {'IF', 'THEN', 'ENDIF', 'FOR', 'NEXT', 'GOSUB', 'RETURN'}\n",
    "    token_specification = [\n",
    "        ('NUMBER',   r'\\d+(\\.\\d*)?'),  \n",
    "        ('ASSIGN',   r':='),           \n",
    "        ('END',      r';'),            \n",
    "        ('ID',       r'[A-Za-z]+'),    \n",
    "        ('OP',       r'[+\\-*/]'),      \n",
    "        ('NEWLINE',  r'\\n'),          \n",
    "        ('SKIP',     r'[ \\t]+'),       \n",
    "        ('MISMATCH', r'.'),            \n",
    "    ]\n",
    "    tok_regex = '|'.join('(?P<%s>%s)' % pair for pair in token_specification)\n",
    "    line_num = 1\n",
    "    line_start = 0\n",
    "    for mo in re.finditer(tok_regex, code):\n",
    "        kind = mo.lastgroup\n",
    "        value = mo.group()\n",
    "        column = mo.start() - line_start\n",
    "        if kind == 'NUMBER':\n",
    "            value = float(value) if '.' in value else int(value)\n",
    "        elif kind == 'ID' and value in keywords:\n",
    "            kind = value\n",
    "        elif kind == 'NEWLINE':\n",
    "            line_start = mo.end()\n",
    "            line_num += 1\n",
    "            continue\n",
    "        elif kind == 'SKIP':\n",
    "            continue\n",
    "        elif kind == 'MISMATCH':\n",
    "            raise RuntimeError(f'{value!r} unexpected on line {line_num}')\n",
    "        yield Token(kind, value, line_num, column)\n",
    "\n",
    "statements = '''\n",
    "    IF quantity THEN\n",
    "        total := total + price * quantity;\n",
    "        tax := price * 0.05;\n",
    "    ENDIF;\n",
    "'''\n",
    "\n",
    "for token in tokenize(statements):\n",
    "    print(token)"
   ]
  },
  {
   "cell_type": "code",
   "execution_count": 52,
   "metadata": {},
   "outputs": [
    {
     "name": "stdout",
     "output_type": "stream",
     "text": [
      "['Bangladesh', 'England', 'Australia']\n",
      "['<li>Bangladesh</li>', '<li>England</li>', '<li>Australia</li>']\n"
     ]
    }
   ],
   "source": [
    "import re\n",
    "htm = '<li>Bangladesh</li><li>England</li><li>Australia</li>'\n",
    "print(re.findall(r'<li>(.*?)</li>',htm))\n",
    "print(re.findall(r'<li>.*?</li>',htm))"
   ]
  },
  {
   "cell_type": "code",
   "execution_count": 55,
   "metadata": {},
   "outputs": [
    {
     "name": "stdout",
     "output_type": "stream",
     "text": [
      "['12/08/2024', '16/08/2021']\n",
      "['2021-08-16']\n",
      "['16 08 2024', '12/08/2024', '16-08-2021', '16/08/2021']\n"
     ]
    }
   ],
   "source": [
    "application=\"\"\"\"Certainly! Here's an application requesting the closure of a school on 16 08 2024:\n",
    "12/08/2024\n",
    "To the headmaster\n",
    "Subject: Request for School Closure on  16-08-2021\n",
    "Dear sir\n",
    "I am writing to formally request the closure of KG on 16/08/2021 for 10th Moharom on 2021-08-16.\"\"\"\n",
    "print(re.findall(r'(\\d{2}\\s*/\\d{2}\\s*/\\d{4})',application))\n",
    "print(re.findall(r'(\\d{4}-\\d{2}-\\d{2})',application))#\n",
    "print(re.findall(r'(\\d{2}[\\s*/-]\\d{2}[\\s*/-]\\d{4})',application))"
   ]
  }
 ],
 "metadata": {
  "kernelspec": {
   "display_name": ".venv",
   "language": "python",
   "name": "python3"
  },
  "language_info": {
   "codemirror_mode": {
    "name": "ipython",
    "version": 3
   },
   "file_extension": ".py",
   "mimetype": "text/x-python",
   "name": "python",
   "nbconvert_exporter": "python",
   "pygments_lexer": "ipython3",
   "version": "3.12.1"
  }
 },
 "nbformat": 4,
 "nbformat_minor": 2
}
