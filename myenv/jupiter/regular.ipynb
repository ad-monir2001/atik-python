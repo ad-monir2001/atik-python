{
 "cells": [
  {
   "cell_type": "markdown",
   "metadata": {},
   "source": [
    "\n",
    "# REGULAR EXPRESSION\n",
    "\n"
   ]
  },
  {
   "cell_type": "code",
   "execution_count": 54,
   "metadata": {},
   "outputs": [
    {
     "name": "stdout",
     "output_type": "stream",
     "text": [
      "['england', 'ireland', 'homeland', 'greenland']\n"
     ]
    }
   ],
   "source": [
    "import re\n",
    "s=\"england,ireland,homeland,greenland,Bangladesh\"\n",
    "print(re.findall(r'(\\w+land)',s))"
   ]
  },
  {
   "cell_type": "code",
   "execution_count": 55,
   "metadata": {},
   "outputs": [
    {
     "name": "stdout",
     "output_type": "stream",
     "text": [
      "['Bangladeshi']\n",
      "['Bangladesh is an agricultural country Bangladeshi man i']\n",
      "['Bangladesh', 'Bangladesh']\n"
     ]
    }
   ],
   "source": [
    "\n",
    "text4='Bangladesh is an agricultural country Bangladeshi man is great and populated'\n",
    "print(re.findall(r'(B\\w+i)',text4))\n",
    "print(re.findall(r'(B.+i)',text4)) \n",
    "print(re.findall(r'(B.+?h)',text4))"
   ]
  },
  {
   "cell_type": "code",
   "execution_count": null,
   "metadata": {},
   "outputs": [],
   "source": [
    "text5=\"Bangladesh is an agricultural Country .\"\n",
    "s=re.search(r\"(B.+?i)\",text5)\n",
    "print(s)\n",
    "print(s.group())"
   ]
  },
  {
   "cell_type": "markdown",
   "metadata": {},
   "source": [
    "                    SIGN OF REGULAR EXPRESSION                     "
   ]
  },
  {
   "cell_type": "markdown",
   "metadata": {},
   "source": [
    "\n",
    "\\\\\tপরবর্তী অক্ষরটি বিশেষ অক্ষর বা স্থিতিশূন্য হিসেবে চিহ্নিত করে। উদাহরণস্বরূপ, n অক্ষরটি n অক্ষরের সাথে মিলে, যদিও \\n একটি নিউলাইন অক্ষরের সাথে মিলে। ধারণার অনুযায়ী, \\\\ অক্ষরটি \\ এবং \\( অক্ষরটি ( এর সাথে মিলে।\n",
    "*\tপূর্ববর্তী অক্ষরটি শূন্য বা বেশি সংখ্যক বার মিলে। উদাহরণস্বরূপ, zo* সঠিকভাবে z বা zoo দুটির মধ্যে যেকোনোটির সাথে মিলে।\n",
    "+\tপূর্ববর্তী অক্ষরটি একবার বা ততোধিক সংখ্যক বার মিলে। উদাহরণস্বরূপ, zo+ ঠিকমতো zoo কে মিলে, কিন্তু z কে মিলে না।\n",
    "?\tপূর্ববর্তী অক্ষরটি শূন্য বা একবার মিলে। উদাহরণস্বরূপ, a?ve? সঠিকভাবে never এর ve অংশের সাথে মিলে।\n",
    ".\tনিউলাইন অক্ষর ব্যাতিত সকল একক অক্ষরের সাথে মিলে।\n",
    "(pattern)\tএকটি প্যাটার্নের সাথে মিলে এবং ম্যাচ স্মৃতিতে সংরক্ষিত করে। ফলাফল হিসেবে মিলস সংগ্রহ থেকে এই ম্যাচ সাবস্ট্রিংটি পুনরুদ্ধার করতে এই কোডটি ব্যবহার করা যেতে পারে: Item [0]...[n]। এখানে parentheses অক্ষর ( ) ম্যাচ করার জন্য \\( বা \\) ব্যবহার করা হয়।\n",
    "x|y\tএটি x বা y এর মধ্যে মিলে। উদাহরণস্বরূপ, z|wood সঠিকভাবে z বা wood এর সাথে মিলে। (z|w)oo সঠিকভাবে zoo বা wood এর সাথে মিলে।\n",
    "{n}\tn একটি অসন্তানজনক পূর্ণসংখ্যা। n সঠিকভাবে n বার মিলে। উদাহরণস্বরূপ, o{2} Bob এর o মিলে না, কিন্তু foooood এর প্রথম দুটি o মিলে।\n",
    "{n,}\tএই অভ্যন্তরীণ অভিব্যক্তিতে, n একটি অসন্তানজনক পূর্ণসংখ্যা। পূর্ববর্তী অক্ষরটি অন্তত n বার মিলে। উদাহরণস্বরূপ, o{2,} Bob এর o মিলে না এবং foooood এর সমস্ত o মিলে। o{1,} অভিব্যক্তি o+ এর সমান এবং o{0,} অভিব্যক্তি o* এর সমান।\n",
    "{n,m}\tm এবং n অসন্তানজনক পূর্ণসংখ্যা। পূর্ববর্তী অক্ষরটি অন্তত n এবং সর্বাধিক m বার মিলে। উদাহরণস্বরূপ, o{1,3} fooooood এর প্রথম তিনটি o মিলে। o{0,1} অভিব্যক্তি o? এর সমান।\n",
    "[xyz]\tএকটি অক্ষর সেট। বন্ধনীতে যেকোনো একটি অক্ষরের সাথে মিলে। উদাহরণস্বরূপ, [abc] plain এর a মিলে।\n",
    "[^xyz]\tএকটি নেতিবাচক অক্ষর সেট। বন্ধনীতে না থাকা যেকোনো অক্ষরের সাথে মিলে। উদাহরণস্বরূপ, [^abc] plain এর p মিলে।\n",
    "[^m-z]\tএকটি নেতিবাচক অক্ষরের পরিসীমা। বন্ধনীতে না থাকা যেকোনো অক্ষরের সাথে মিলে। উদাহরণস্বরূপ, [m-z] সাথে না থাকা যেকোনো অক্ষরের সাথে মিলে যা m থেকে z পর্যন্ত পরিসীমায়।\n",
    "\\\\A\tশুধুমাত্র স্ট্রিংটির শুরুতে মিলে।\n",
    "\\\\b\tএকটি শব্দ সীমান্তের সাথে মিলে, অর্থাৎ একটি শব্দ এবং একটি স্পেস এর মধ্যের অবস্থান। উদাহরণস্বরূপ, er\\b সঠিকভাবে never এর er এর সাথে মিলে, তবে verb এর er এর সাথে মিলে না।\n",
    "\\\\B\tএকটি অশব্দ সীমান্তের সাথে মিলে। ea*r\\B অভিব্যক্তিটি never early এর ear এর সাথে মিলে।\n",
    "\\\\d\tএকটি ডিজিট অক্ষরের সাথে মিলে।\n",
    "\\\\D\tএকটি ডিজিট অক্ষরের বাইরের সাথে মিলে।\n",
    "\\\\f\tএকটি ফর্ম-ফিড অক্ষরের সাথে মিলে।\n",
    "\\\\n\tএকটি নিউলাইন অক্ষরের সাথে মিলে।\n",
    "\\\\r\tএকটি ক্যারিজ রিটার্ন অক্ষরের সাথে মিলে।\n",
    "\\\\s\tস্পেস, ট্যাব, ফর্ম-ফিড অক্ষর সহ সকল সাদা স্থানের সাথে মিলে।\n",
    "\\\\S\tকোনো সাদা স্থান অক্ষরের সাথে মিলে।\n",
    "\\\\t\tএকটি ট্যাব অক্ষরের সাথে মিলে।\n",
    "\\\\v\tএকটি ভার্টিক্যাল ট্যাব অক্ষরের সাথে মিলে।\n",
    "\\\\w\tঅন্যান্য আন্ডারস্কোর সহ সকল শব্দ অক্ষরের সাথে মিলে। এই অভিব্যক্তি [A-Za-z0-9_] এর সমান।\n",
    "\\\\W\tঅন্যান্য অক্ষর সহ সকল শব্দ অক্ষরের বাইরের সাথে মিলে। এই অভিব্যক্তি [^A-Za-z0-9_] এর সমান।\n",
    "\\\\z\tশুধুমাত্র স্ট্রিংটির শেষে মিলে।\n",
    "\\\\Z\tশুধুমাত্র স্ট্রিংটির শেষে মিলে, অথবা একটি নিউলাইন অক্ষরের আগে মিলে যেটি শেষের নিউলাইন অক্ষর হিসেবে।"
   ]
  },
  {
   "cell_type": "code",
   "execution_count": null,
   "metadata": {},
   "outputs": [],
   "source": [
    "import re\n",
    "text=\"\"\"What is pytHon?What type of language is python? python is an object-oriented, high-level programming language with dynamic semantics developed . It was originally released in 1991. Designed to be easy as well as fun, Python has a reputation as a beginner-friendly language, replacing Java as the most widely used introductory language because it handles much of the complexity for the user .Python is used for server-side web development, software development, mathematics, and system scripting, and is popular for Rapid Application Development  built-in data structures, dynamic typing, and dynamic binding.It is easy to code and learn form JS\"\"\"\n",
    "matches=re.finditer('Python',text)\n",
    "print(re.findall(r'(^\\w+$)',text))\n",
    "print(re.findall(r'([91])',text)) #!* [xyz] It will return all 9 and 1.It cnn't return any element only without 9 and 1.\n",
    "print(re.findall(r'([^Wb])',text)) #! [^WB] It  return all elements without W and B .\n",
    "print((re.findall(r\"^[A-Z]\\w+\",text,))) # [A-Z] It's use for making range in A to Z with capital letter "
   ]
  },
  {
   "cell_type": "code",
   "execution_count": 51,
   "metadata": {},
   "outputs": [
    {
     "name": "stdout",
     "output_type": "stream",
     "text": [
      "['1', '01723', '985154', '2', '00000', '000000', '3', '1452', '4', '00000000000', '5', '01111', '022222', '6', '01325', '896585', '7', '01954', '215425', '8', '01748', '542525', '9', '017940260295', '10', '01569854236']\n",
      "['00000000000', '01794026029', '01569854236']\n",
      "[]\n",
      "[]\n"
     ]
    }
   ],
   "source": [
    "import re\n",
    "numbers='''num1:01723-985154, num2:00000-000000, num3:1452, num4:00000000000, num5:01111 022222, num6:01325-896585\n",
    ",num7:01954 215425 num8:01748 542525 num9:017940260295,num10:01569854236\n",
    "'''\n",
    "print(re.findall(r'(\\d+)',numbers))\n",
    "print(re.findall(r'(\\d{11})',numbers))\n",
    "print(re.findall(r'(\\d{2}\\*[75893]*\\s\\*{8})',numbers))\n",
    "print(re.findall(r'(\\d{2}\\+[35798]\\d{8})',numbers))"
   ]
  },
  {
   "cell_type": "code",
   "execution_count": 52,
   "metadata": {},
   "outputs": [],
   "source": [
    "import re\n",
    "charref = re.compile(r\"\"\"\n",
    " &[#]  \n",
    " (\n",
    "     0[0-7]+         \n",
    "   | [0-9]+         \n",
    "   | x[0-9a-fA-F]+   \n",
    " )\n",
    "                   \n",
    "\"\"\", re.VERBOSE)"
   ]
  },
  {
   "cell_type": "code",
   "execution_count": 53,
   "metadata": {},
   "outputs": [],
   "source": [
    "# from typing import NamedTuple\n",
    "# import re\n",
    "\n",
    "# class Token(NamedTuple):\n",
    "#     type: str\n",
    "#     value: str\n",
    "#     line: int\n",
    "#     column: int\n",
    "\n",
    "# def tokenize(code):\n",
    "#     keywords = {'IF', 'THEN', 'ENDIF', 'FOR', 'NEXT', 'GOSUB', 'RETURN'}\n",
    "#     token_specification = [\n",
    "#         ('NUMBER',   r'\\d+(\\.\\d*)?'),  \n",
    "#         ('ASSIGN',   r':='),           \n",
    "#         ('END',      r';'),            \n",
    "#         ('ID',       r'[A-Za-z]+'),    \n",
    "#         ('OP',       r'[+\\-*/]'),      \n",
    "#         ('NEWLINE',  r'\\n'),          \n",
    "#         ('SKIP',     r'[ \\t]+'),       \n",
    "#         ('MISMATCH', r'.'),            \n",
    "#     ]\n",
    "#     tok_regex = '|'.join('(?P<%s>%s)' % pair for pair in token_specification)\n",
    "#     line_num = 1\n",
    "#     line_start = 0\n",
    "#     for mo in re.finditer(tok_regex, code):\n",
    "#         kind = mo.lastgroup\n",
    "#         value = mo.group()\n",
    "#         column = mo.start() - line_start\n",
    "#         if kind == 'NUMBER':\n",
    "#             value = float(value) if '.' in value else int(value)\n",
    "#         elif kind == 'ID' and value in keywords:\n",
    "#             kind = value\n",
    "#         elif kind == 'NEWLINE':\n",
    "#             line_start = mo.end()\n",
    "#             line_num += 1\n",
    "#             continue\n",
    "#         elif kind == 'SKIP':\n",
    "#             continue\n",
    "#         elif kind == 'MISMATCH':\n",
    "#             raise RuntimeError(f'{value!r} unexpected on line {line_num}')\n",
    "#         yield Token(kind, value, line_num, column)\n",
    "\n",
    "# statements = '''\n",
    "#     IF quantity THEN\n",
    "#         total := total + price * quantity;\n",
    "#         tax := price * 0.05;\n",
    "#     ENDIF;\n",
    "# '''\n",
    "\n",
    "# for token in tokenize(statements):\n",
    "#     print(token)"
   ]
  }
 ],
 "metadata": {
  "kernelspec": {
   "display_name": ".venv",
   "language": "python",
   "name": "python3"
  },
  "language_info": {
   "codemirror_mode": {
    "name": "ipython",
    "version": 3
   },
   "file_extension": ".py",
   "mimetype": "text/x-python",
   "name": "python",
   "nbconvert_exporter": "python",
   "pygments_lexer": "ipython3",
   "version": "3.12.1"
  }
 },
 "nbformat": 4,
 "nbformat_minor": 2
}
