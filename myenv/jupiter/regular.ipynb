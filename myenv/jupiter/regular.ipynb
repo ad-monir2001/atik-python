{
 "cells": [
  {
   "cell_type": "markdown",
   "metadata": {},
   "source": [
    "\n",
    "# REGULAR EXPRESSION\n",
    "\n"
   ]
  },
  {
   "cell_type": "code",
   "execution_count": 11,
   "metadata": {},
   "outputs": [
    {
     "name": "stdout",
     "output_type": "stream",
     "text": [
      "['england', 'ireland', 'homeland', 'greenland']\n"
     ]
    }
   ],
   "source": [
    "import re\n",
    "s=\"england,ireland,homeland,greenland,Bangladesh\"\n",
    "print(re.findall(r'(\\w+land)',s))"
   ]
  },
  {
   "cell_type": "code",
   "execution_count": 12,
   "metadata": {},
   "outputs": [
    {
     "name": "stdout",
     "output_type": "stream",
     "text": [
      "['Bangladeshi']\n",
      "['Bangladesh is an agricultural country Bangladeshi man i']\n",
      "['Bangladesh', 'Bangladesh']\n"
     ]
    }
   ],
   "source": [
    "\n",
    "text4='Bangladesh is an agricultural country Bangladeshi man is great and populated'\n",
    "print(re.findall(r'(B\\w+i)',text4))\n",
    "print(re.findall(r'(B.+i)',text4)) \n",
    "print(re.findall(r'(B.+?h)',text4))"
   ]
  },
  {
   "cell_type": "code",
   "execution_count": 24,
   "metadata": {},
   "outputs": [
    {
     "name": "stdout",
     "output_type": "stream",
     "text": [
      "<re.Match object; span=(0, 12), match='Bangladesh i'>\n",
      "Bangladesh i\n"
     ]
    }
   ],
   "source": [
    "text5=\"Bangladesh is an agricultural Country .\"\n",
    "s=re.search(r\"(B.+?i)\",text5)\n",
    "print(s)\n",
    "print(s.group())"
   ]
  }
 ],
 "metadata": {
  "kernelspec": {
   "display_name": ".venv",
   "language": "python",
   "name": "python3"
  },
  "language_info": {
   "codemirror_mode": {
    "name": "ipython",
    "version": 3
   },
   "file_extension": ".py",
   "mimetype": "text/x-python",
   "name": "python",
   "nbconvert_exporter": "python",
   "pygments_lexer": "ipython3",
   "version": "3.12.1"
  }
 },
 "nbformat": 4,
 "nbformat_minor": 2
}
